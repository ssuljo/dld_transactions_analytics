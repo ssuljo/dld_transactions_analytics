{
 "cells": [
  {
   "cell_type": "markdown",
   "metadata": {},
   "source": [
    "# Real Estate Transactions Analysis"
   ]
  },
  {
   "cell_type": "markdown",
   "metadata": {},
   "source": [
    "**Train a model with real estate data using Sagemaker built-in XGBoost algorithm**"
   ]
  },
  {
   "cell_type": "markdown",
   "metadata": {},
   "source": [
    "## Import Libraries and Load Dataset"
   ]
  },
  {
   "cell_type": "code",
   "execution_count": 1,
   "metadata": {
    "tags": []
   },
   "outputs": [
    {
     "name": "stdout",
     "output_type": "stream",
     "text": [
      "sagemaker.config INFO - Not applying SDK defaults from location: /etc/xdg/sagemaker/config.yaml\n",
      "sagemaker.config INFO - Not applying SDK defaults from location: /home/ec2-user/.config/sagemaker/config.yaml\n"
     ]
    }
   ],
   "source": [
    "# Import necessary libraries\n",
    "import boto3\n",
    "import pandas as pd\n",
    "from sklearn.model_selection import train_test_split\n",
    "import sagemaker\n",
    "from sagemaker import get_execution_role\n",
    "from sagemaker.session import Session\n",
    "from sagemaker.inputs import TrainingInput\n",
    "import scipy.sparse as sp\n",
    "import pandas as pd"
   ]
  },
  {
   "cell_type": "markdown",
   "metadata": {},
   "source": [
    "## Data Preparation"
   ]
  },
  {
   "cell_type": "markdown",
   "metadata": {},
   "source": [
    "Shuffling and splitting your dataset into training, validation, and test sets.\n"
   ]
  },
  {
   "cell_type": "code",
   "execution_count": 2,
   "metadata": {
    "tags": []
   },
   "outputs": [
    {
     "name": "stdout",
     "output_type": "stream",
     "text": [
      "<class 'pandas.core.frame.DataFrame'>\n",
      "RangeIndex: 760814 entries, 0 to 760813\n",
      "Data columns (total 13 columns):\n",
      " #   Column                Non-Null Count   Dtype  \n",
      "---  ------                --------------   -----  \n",
      " 0   trans_group_en        760814 non-null  object \n",
      " 1   procedure_name_en     760814 non-null  object \n",
      " 2   property_sub_type_en  760814 non-null  object \n",
      " 3   property_usage_en     760814 non-null  object \n",
      " 4   reg_type_en           760814 non-null  object \n",
      " 5   area_name_en          760814 non-null  object \n",
      " 6   master_project_en     672455 non-null  object \n",
      " 7   nearest_landmark_en   676553 non-null  object \n",
      " 8   nearest_metro_en      590408 non-null  object \n",
      " 9   nearest_mall_en       590029 non-null  object \n",
      " 10  rooms_en              760814 non-null  object \n",
      " 11  has_parking           760814 non-null  int64  \n",
      " 12  procedure_area        760814 non-null  float64\n",
      "dtypes: float64(1), int64(1), object(11)\n",
      "memory usage: 75.5+ MB\n"
     ]
    }
   ],
   "source": [
    "# Load dataset\n",
    "df_final = pd.read_csv('data/final_dataset.csv')\n",
    "\n",
    "# Define the target feature and predictors\n",
    "target_feature = 'actual_worth'\n",
    "X = df_final.drop(columns=[target_feature])\n",
    "y = df_final[target_feature]\n",
    "\n",
    "# Display information about the transformed dataset\n",
    "X.info()\n",
    "\n",
    "# Split the data into training and testing sets with 80% training and 20% testing\n",
    "X_train, X_test, y_train, y_test = train_test_split(X, y, test_size=0.2, random_state=42)\n",
    "\n",
    "# Further split the test set into testing and validation sets evenly\n",
    "X_test, X_val, y_test, y_val = train_test_split(X_test, y_test, test_size=0.5, random_state=42)"
   ]
  },
  {
   "cell_type": "code",
   "execution_count": 3,
   "metadata": {
    "tags": []
   },
   "outputs": [],
   "source": [
    "from sklearn.compose import ColumnTransformer\n",
    "from sklearn.preprocessing import OneHotEncoder\n",
    "\n",
    "# Define categorical and numerical values\n",
    "categorical_cols = X.select_dtypes(include=['object']).columns\n",
    "\n",
    "preprocessor = ColumnTransformer(\n",
    "    transformers=[\n",
    "    ('encoder', OneHotEncoder(handle_unknown='ignore'), categorical_cols)\n",
    "    ],\n",
    "    remainder='passthrough', \n",
    "    verbose=True)"
   ]
  },
  {
   "cell_type": "code",
   "execution_count": 4,
   "metadata": {
    "tags": []
   },
   "outputs": [
    {
     "name": "stdout",
     "output_type": "stream",
     "text": [
      "[ColumnTransformer] ....... (1 of 2) Processing encoder, total=   2.1s\n",
      "[ColumnTransformer] ..... (2 of 2) Processing remainder, total=   0.0s\n"
     ]
    }
   ],
   "source": [
    "# transform X_train and X_val\n",
    "preprocessor.fit(X)\n",
    "X_train_pre = preprocessor.transform(X_train)\n",
    "X_val_pre = preprocessor.transform(X_val)\n",
    "X_test_pre = preprocessor.transform(X_test)"
   ]
  },
  {
   "cell_type": "code",
   "execution_count": 5,
   "metadata": {
    "tags": []
   },
   "outputs": [],
   "source": [
    "# Make y_train a column vector\n",
    "y_train_pre = y_train.to_numpy().reshape(len(y_train), 1)\n",
    "y_train_pre_sparse = sp.csr_matrix(y_train_pre)\n",
    "\n",
    "y_val_pre = y_val.to_numpy().reshape(len(y_val), 1)\n",
    "y_val_pre_sparse = sp.csr_matrix(y_val_pre)"
   ]
  },
  {
   "cell_type": "code",
   "execution_count": 6,
   "metadata": {
    "tags": []
   },
   "outputs": [],
   "source": [
    "# Concatenate X and y column-wise since for sagemaker train and val data should be with labels\n",
    "train_new = sp.hstack([y_train_pre_sparse, X_train_pre])\n",
    "val_new = sp.hstack([y_val_pre_sparse, X_val_pre])"
   ]
  },
  {
   "cell_type": "code",
   "execution_count": 7,
   "metadata": {
    "tags": []
   },
   "outputs": [
    {
     "name": "stdout",
     "output_type": "stream",
     "text": [
      "Number of columns in X_test_pre: 292\n",
      "Number of columns in train_new: 293\n",
      "Number of columns in val_new: 293\n"
     ]
    }
   ],
   "source": [
    "# Check the shape\n",
    "print(\"Number of columns in X_test_pre:\", X_test_pre.shape[1])\n",
    "print(\"Number of columns in train_new:\", train_new.shape[1])\n",
    "print(\"Number of columns in val_new:\", val_new.shape[1])"
   ]
  },
  {
   "cell_type": "markdown",
   "metadata": {},
   "source": [
    "### Save files locally"
   ]
  },
  {
   "cell_type": "code",
   "execution_count": 8,
   "metadata": {
    "tags": []
   },
   "outputs": [],
   "source": [
    "df_train = pd.DataFrame(data=sp.csr_matrix.todense(train_new))"
   ]
  },
  {
   "cell_type": "code",
   "execution_count": 9,
   "metadata": {
    "tags": []
   },
   "outputs": [],
   "source": [
    "df_val = pd.DataFrame(data=sp.csr_matrix.todense(val_new))"
   ]
  },
  {
   "cell_type": "code",
   "execution_count": 10,
   "metadata": {
    "tags": []
   },
   "outputs": [],
   "source": [
    "df_test = pd.DataFrame(data=sp.csr_matrix.todense(X_test_pre))"
   ]
  },
  {
   "cell_type": "markdown",
   "metadata": {
    "tags": []
   },
   "source": [
    "## Upload Data to S3"
   ]
  },
  {
   "cell_type": "code",
   "execution_count": 11,
   "metadata": {
    "tags": []
   },
   "outputs": [],
   "source": [
    "# Setup the initial variables and SageMaker session\n",
    "bucket = 'dld-transactions-project'\n",
    "prefix = 'XGBoost-Regressor-matrix'"
   ]
  },
  {
   "cell_type": "code",
   "execution_count": 12,
   "metadata": {
    "tags": []
   },
   "outputs": [],
   "source": [
    "# Define S3 object keys for the data and model output\n",
    "train_key = f'{prefix}/train/train.csv'\n",
    "validation_key = f'{prefix}/validation/validation.csv'\n",
    "test_key = f'{prefix}/test/test.csv'\n",
    "model_output_key = f'{prefix}/artifacts'"
   ]
  },
  {
   "cell_type": "code",
   "execution_count": 13,
   "metadata": {
    "tags": []
   },
   "outputs": [],
   "source": [
    "# Construct full S3 paths for printing and reference\n",
    "s3_train_path = f's3://{bucket}/{train_key}'\n",
    "s3_validation_path = f's3://{bucket}/{validation_key}'\n",
    "s3_test_path = f's3://{bucket}/{test_key}'\n",
    "s3_model_output_path = f's3://{bucket}/{model_output_key}'"
   ]
  },
  {
   "cell_type": "code",
   "execution_count": 14,
   "metadata": {
    "tags": []
   },
   "outputs": [
    {
     "name": "stdout",
     "output_type": "stream",
     "text": [
      "Training artifacts will be uploaded to: s3://dld-transactions-project/XGBoost-Regressor-matrix/artifacts\n",
      "Training data path: s3://dld-transactions-project/XGBoost-Regressor-matrix/train/train.csv\n",
      "Validation data path: s3://dld-transactions-project/XGBoost-Regressor-matrix/validation/validation.csv\n",
      "Test data path: s3://dld-transactions-project/XGBoost-Regressor-matrix/test/test.csv\n"
     ]
    }
   ],
   "source": [
    "# Print S3 paths for verification\n",
    "print(f'Training artifacts will be uploaded to: {s3_model_output_path}')\n",
    "print(f'Training data path: {s3_train_path}')\n",
    "print(f'Validation data path: {s3_validation_path}')\n",
    "print(f'Test data path: {s3_test_path}')"
   ]
  },
  {
   "cell_type": "code",
   "execution_count": 15,
   "metadata": {
    "tags": []
   },
   "outputs": [],
   "source": [
    "# Function to save DataFrame to .npz and upload to S3\n",
    "def upload_data_to_s3(data_frame, local_file_name, object_key):\n",
    "    data_frame.to_csv(local_file_name, index=False)\n",
    "    boto3.Session().resource('s3').Bucket(bucket).Object(object_key).upload_file(local_file_name)\n",
    "    print(f'Uploaded {local_file_name} to s3://{bucket}/{object_key}')"
   ]
  },
  {
   "cell_type": "code",
   "execution_count": 16,
   "metadata": {
    "tags": []
   },
   "outputs": [
    {
     "name": "stdout",
     "output_type": "stream",
     "text": [
      "Uploaded preprocessed_data/train.csv to s3://dld-transactions-project/XGBoost-Regressor-matrix/train/train.csv\n"
     ]
    }
   ],
   "source": [
    "# upload to S3\n",
    "upload_data_to_s3(df_train, 'preprocessed_data/train.csv', train_key)"
   ]
  },
  {
   "cell_type": "code",
   "execution_count": 17,
   "metadata": {
    "tags": []
   },
   "outputs": [
    {
     "name": "stdout",
     "output_type": "stream",
     "text": [
      "Uploaded preprocessed_data/val.csv to s3://dld-transactions-project/XGBoost-Regressor-matrix/validation/validation.csv\n"
     ]
    }
   ],
   "source": [
    "# upload to S3\n",
    "upload_data_to_s3(df_val, 'preprocessed_data/val.csv', validation_key)"
   ]
  },
  {
   "cell_type": "code",
   "execution_count": 18,
   "metadata": {
    "tags": []
   },
   "outputs": [
    {
     "name": "stdout",
     "output_type": "stream",
     "text": [
      "Uploaded preprocessed_data/test.csv to s3://dld-transactions-project/XGBoost-Regressor-matrix/test/test.csv\n"
     ]
    }
   ],
   "source": [
    "# upload to S3\n",
    "upload_data_to_s3(df_test, 'preprocessed_data/test.csv', test_key)"
   ]
  },
  {
   "cell_type": "markdown",
   "metadata": {
    "tags": []
   },
   "source": [
    "## Training Algorithm Docker Image"
   ]
  },
  {
   "cell_type": "code",
   "execution_count": 16,
   "metadata": {
    "tags": []
   },
   "outputs": [],
   "source": [
    "sagemaker_session = Session(default_bucket=bucket)\n",
    "region = boto3.Session().region_name\n",
    "role = get_execution_role()"
   ]
  },
  {
   "cell_type": "code",
   "execution_count": 17,
   "metadata": {
    "tags": []
   },
   "outputs": [
    {
     "name": "stdout",
     "output_type": "stream",
     "text": [
      "Using XGBoost Container 683313688378.dkr.ecr.us-east-1.amazonaws.com/sagemaker-xgboost:1.7-1\n"
     ]
    }
   ],
   "source": [
    "# Obtain a reference to the XGBoost container image (sagemaker built-in algorithm)\n",
    "\n",
    "container = sagemaker.image_uris.retrieve('xgboost',region,'1.7-1') # Latest version of XGboost\n",
    "print (f'Using XGBoost Container {container}')"
   ]
  },
  {
   "cell_type": "markdown",
   "metadata": {
    "tags": []
   },
   "source": [
    "## Build Hyperparameter Tuning Job"
   ]
  },
  {
   "cell_type": "code",
   "execution_count": 20,
   "metadata": {
    "tags": []
   },
   "outputs": [],
   "source": [
    "from sagemaker.estimator import Estimator\n",
    "\n",
    "job_name = \"dld-transactions-xgboost-final\" # Training job name\n",
    "\n",
    "# Creating the estimator\n",
    "estimator = Estimator(\n",
    "    sagemaker_session = sagemaker_session,\n",
    "    image_uri = container,\n",
    "    base_job_name = job_name,\n",
    "    role = role,\n",
    "    output_path=s3_model_output_path,\n",
    "    instance_type = 'ml.m4.xlarge',\n",
    "    instance_count = 3,\n",
    "    # use_spot_instances = True,\n",
    "    # max_run = 4000,\n",
    "    # max_wait = 8000\n",
    ")"
   ]
  },
  {
   "cell_type": "code",
   "execution_count": 122,
   "metadata": {
    "tags": []
   },
   "outputs": [],
   "source": [
    "# Instead of parsing a list of values for hyperparameter option, \n",
    "# the search grid is set to declare a range space where the tuning job itself \n",
    "# will be allowed to select values to test.\n",
    "\n",
    "from sagemaker.tuner import ContinuousParameter, IntegerParameter\n",
    "\n",
    "search_grid = {\n",
    "    \"alpha\": ContinuousParameter(1, 20),\n",
    "    \"eta\": ContinuousParameter(0.05, 0.5),\n",
    "    \"max_depth\": IntegerParameter(5, 15),\n",
    "    \"colsample_bytree\": ContinuousParameter(0.3, 0.9),\n",
    "}\n"
   ]
  },
  {
   "cell_type": "code",
   "execution_count": 123,
   "metadata": {
    "tags": []
   },
   "outputs": [],
   "source": [
    "# Create the hyperparameter tuning job class\n",
    "\n",
    "from sagemaker.tuner import HyperparameterTuner\n",
    "\n",
    "# Estimator objective and evaluation metric to be applied\n",
    "estimator.set_hyperparameters(\n",
    "    eval_metric = \"rmse\",\n",
    "    objective = \"reg:squarederror\",\n",
    "    seed = 42,\n",
    "    num_round = 400,\n",
    "    rate_drop = 0.3\n",
    ")\n",
    "\n",
    "# Creating a tuner class\n",
    "hyperparam_tuner = HyperparameterTuner(\n",
    "    estimator = estimator,\n",
    "    early_stopping_type = \"Auto\",\n",
    "    objective_metric_name = \"validation:rmse\",\n",
    "    strategy = \"Bayesian\", # The HyperparameterTuner() class optimizes the searching of values to be tested on each model training using Bayesian Search. This method treats this whole value searching task as a regression problem.\n",
    "    objective_type = \"Minimize\",\n",
    "    max_jobs = 200,\n",
    "    max_parallel_jobs = 3,\n",
    "    hyperparameter_ranges = search_grid\n",
    ")"
   ]
  },
  {
   "cell_type": "code",
   "execution_count": 124,
   "metadata": {
    "tags": []
   },
   "outputs": [
    {
     "name": "stderr",
     "output_type": "stream",
     "text": [
      "WARNING:sagemaker.estimator:No finished training job found associated with this estimator. Please make sure this estimator is only used for building workflow config\n",
      "INFO:sagemaker:Creating hyperparameter tuning job with name: dld-transactions-xgboost-final\n"
     ]
    }
   ],
   "source": [
    "# Start execution\n",
    "hyperparam_tuner.fit(\n",
    "    wait = False,\n",
    "    job_name = job_name,\n",
    "    inputs = {\n",
    "        \"train\": TrainingInput(s3_train_path, content_type = \"csv\"), \n",
    "        \"validation\": TrainingInput(s3_validation_path, content_type = \"csv\")\n",
    "    }\n",
    ")"
   ]
  },
  {
   "cell_type": "code",
   "execution_count": 21,
   "metadata": {
    "tags": []
   },
   "outputs": [],
   "source": [
    "import boto3\n",
    "\n",
    "# Create client from sagemaker service\n",
    "client = boto3.Session().client(\"sagemaker\")\n",
    "\n",
    "# Get tuning job description\n",
    "tuner_job_info = client.describe_hyper_parameter_tuning_job(\n",
    "  HyperParameterTuningJobName = job_name\n",
    ")\n",
    "\n",
    "# Get name from the best training job among all jobs performed\n",
    "best_job_name = tuner_job_info[\"BestTrainingJob\"][\"TrainingJobName\"]\n",
    "\n",
    "# Get best job description\n",
    "best_job_info = client.describe_training_job(\n",
    "  TrainingJobName = best_job_name\n",
    ")"
   ]
  },
  {
   "cell_type": "markdown",
   "metadata": {
    "tags": []
   },
   "source": [
    "## Analyze SageMaker Tuning results"
   ]
  },
  {
   "cell_type": "code",
   "execution_count": 31,
   "metadata": {
    "tags": []
   },
   "outputs": [],
   "source": [
    "from sagemaker.tuner import HyperparameterTuner\n",
    "hyperparam_tuner = HyperparameterTuner.attach(job_name)"
   ]
  },
  {
   "cell_type": "code",
   "execution_count": 32,
   "metadata": {
    "tags": []
   },
   "outputs": [
    {
     "name": "stdout",
     "output_type": "stream",
     "text": [
      "for this tuner, objective is to Minimize\n"
     ]
    }
   ],
   "source": [
    "# define a boolean that will be used to sort the data in the right order, depending on the tuning direction:\n",
    "is_ascending = False    \n",
    "print('for this tuner, objective is to ' + hyperparam_tuner.objective_type)"
   ]
  },
  {
   "cell_type": "code",
   "execution_count": 33,
   "metadata": {
    "tags": []
   },
   "outputs": [
    {
     "name": "stdout",
     "output_type": "stream",
     "text": [
      "200 iterations\n",
      "best job: dld-transactions-xgboost-v6-130-d65f288a\n",
      "        alpha  colsample_bytree       eta  max_depth  \\\n",
      "129  8.225892          0.710259  0.208911       11.0   \n",
      "156  8.188741          0.708946  0.207558       11.0   \n",
      "183  8.060843          0.711455  0.209305       11.0   \n",
      "184  7.975353          0.704611  0.209737       11.0   \n",
      "190  8.042741          0.705662  0.209814       11.0   \n",
      "\n",
      "                              TrainingJobName TrainingJobStatus  \\\n",
      "129  dld-transactions-xgboost-v6-130-d65f288a           Stopped   \n",
      "156  dld-transactions-xgboost-v6-157-e4b98763           Stopped   \n",
      "183  dld-transactions-xgboost-v6-184-a9fe0425           Stopped   \n",
      "184  dld-transactions-xgboost-v6-185-66d94757           Stopped   \n",
      "190  dld-transactions-xgboost-v6-191-97e6cb5d           Stopped   \n",
      "\n",
      "     FinalObjectiveValue         TrainingStartTime           TrainingEndTime  \\\n",
      "129         280355.87500 2024-04-24 13:13:22+00:00 2024-04-24 13:14:08+00:00   \n",
      "156         284176.25000 2024-04-24 13:25:54+00:00 2024-04-24 13:26:38+00:00   \n",
      "183         284596.12500 2024-04-24 13:39:23+00:00 2024-04-24 13:40:08+00:00   \n",
      "184         284698.46875 2024-04-24 13:39:53+00:00 2024-04-24 13:40:38+00:00   \n",
      "190         284716.50000 2024-04-24 13:42:28+00:00 2024-04-24 13:43:13+00:00   \n",
      "\n",
      "     TrainingElapsedTimeSeconds  cumulative  \n",
      "129                        46.0  280355.875  \n",
      "156                        44.0  280355.875  \n",
      "183                        45.0  280355.875  \n",
      "184                        45.0  280355.875  \n",
      "190                        45.0  280355.875  \n"
     ]
    }
   ],
   "source": [
    "results = hyperparam_tuner.analytics().dataframe()\n",
    "\n",
    "# Only use completed training jobs\n",
    "# results = results[results.TrainingJobStatus == \"Completed\"]\n",
    "num_iterations = results.shape[0]\n",
    "\n",
    "if (num_iterations >= 1):\n",
    "    \n",
    "    # sort\n",
    "    results = (results[~results.FinalObjectiveValue.isnull()]\n",
    "               .sort_values(by='TrainingStartTime', ascending=True).reset_index(drop=True))\n",
    "\n",
    "    results['cumulative'] = results['FinalObjectiveValue'].cummin()\n",
    "\n",
    "    best_job = results.sort_values(by='FinalObjectiveValue',\n",
    "                                   ascending=not is_ascending)['TrainingJobName'].values[0]\n",
    "    print('{} iterations'.format(len(results)))\n",
    "    print('best job: {}'.format(best_job))\n",
    "\n",
    "    # show top 5 best iterations\n",
    "    print(results.sort_values(by='FinalObjectiveValue', ascending=not is_ascending).head(5))\n",
    "else:\n",
    "    print(f'Job {jobname} has no tuning results to analyze yet.')"
   ]
  },
  {
   "cell_type": "code",
   "execution_count": 34,
   "metadata": {
    "tags": []
   },
   "outputs": [
    {
     "data": {
      "text/html": [
       "<div>\n",
       "<style scoped>\n",
       "    .dataframe tbody tr th:only-of-type {\n",
       "        vertical-align: middle;\n",
       "    }\n",
       "\n",
       "    .dataframe tbody tr th {\n",
       "        vertical-align: top;\n",
       "    }\n",
       "\n",
       "    .dataframe thead th {\n",
       "        text-align: right;\n",
       "    }\n",
       "</style>\n",
       "<table border=\"1\" class=\"dataframe\">\n",
       "  <thead>\n",
       "    <tr style=\"text-align: right;\">\n",
       "      <th></th>\n",
       "      <th>alpha</th>\n",
       "      <th>colsample_bytree</th>\n",
       "      <th>eta</th>\n",
       "      <th>max_depth</th>\n",
       "      <th>TrainingJobName</th>\n",
       "      <th>TrainingJobStatus</th>\n",
       "      <th>FinalObjectiveValue</th>\n",
       "      <th>TrainingStartTime</th>\n",
       "      <th>TrainingEndTime</th>\n",
       "      <th>TrainingElapsedTimeSeconds</th>\n",
       "      <th>cumulative</th>\n",
       "    </tr>\n",
       "  </thead>\n",
       "  <tbody>\n",
       "    <tr>\n",
       "      <th>0</th>\n",
       "      <td>6.176000</td>\n",
       "      <td>0.865021</td>\n",
       "      <td>0.197074</td>\n",
       "      <td>11.0</td>\n",
       "      <td>dld-transactions-xgboost-v6-003-c9a4f50d</td>\n",
       "      <td>Stopped</td>\n",
       "      <td>300380.31250</td>\n",
       "      <td>2024-04-24 12:06:08+00:00</td>\n",
       "      <td>2024-04-24 12:09:35+00:00</td>\n",
       "      <td>207.0</td>\n",
       "      <td>300380.3125</td>\n",
       "    </tr>\n",
       "    <tr>\n",
       "      <th>1</th>\n",
       "      <td>6.099982</td>\n",
       "      <td>0.706735</td>\n",
       "      <td>0.421171</td>\n",
       "      <td>10.0</td>\n",
       "      <td>dld-transactions-xgboost-v6-002-29dd7e04</td>\n",
       "      <td>Stopped</td>\n",
       "      <td>300380.34375</td>\n",
       "      <td>2024-04-24 12:06:31+00:00</td>\n",
       "      <td>2024-04-24 12:09:19+00:00</td>\n",
       "      <td>168.0</td>\n",
       "      <td>300380.3125</td>\n",
       "    </tr>\n",
       "    <tr>\n",
       "      <th>2</th>\n",
       "      <td>11.751119</td>\n",
       "      <td>0.683698</td>\n",
       "      <td>0.171447</td>\n",
       "      <td>13.0</td>\n",
       "      <td>dld-transactions-xgboost-v6-001-dd9e4370</td>\n",
       "      <td>Completed</td>\n",
       "      <td>300380.31250</td>\n",
       "      <td>2024-04-24 12:06:41+00:00</td>\n",
       "      <td>2024-04-24 12:10:25+00:00</td>\n",
       "      <td>224.0</td>\n",
       "      <td>300380.3125</td>\n",
       "    </tr>\n",
       "    <tr>\n",
       "      <th>3</th>\n",
       "      <td>14.568682</td>\n",
       "      <td>0.424082</td>\n",
       "      <td>0.297383</td>\n",
       "      <td>13.0</td>\n",
       "      <td>dld-transactions-xgboost-v6-004-85fec6ae</td>\n",
       "      <td>Stopped</td>\n",
       "      <td>300378.68750</td>\n",
       "      <td>2024-04-24 12:09:43+00:00</td>\n",
       "      <td>2024-04-24 12:10:34+00:00</td>\n",
       "      <td>51.0</td>\n",
       "      <td>300378.6875</td>\n",
       "    </tr>\n",
       "    <tr>\n",
       "      <th>4</th>\n",
       "      <td>4.140963</td>\n",
       "      <td>0.863324</td>\n",
       "      <td>0.182737</td>\n",
       "      <td>20.0</td>\n",
       "      <td>dld-transactions-xgboost-v6-006-052e00eb</td>\n",
       "      <td>Stopped</td>\n",
       "      <td>300378.84375</td>\n",
       "      <td>2024-04-24 12:10:37+00:00</td>\n",
       "      <td>2024-04-24 12:12:12+00:00</td>\n",
       "      <td>95.0</td>\n",
       "      <td>300378.6875</td>\n",
       "    </tr>\n",
       "  </tbody>\n",
       "</table>\n",
       "</div>"
      ],
      "text/plain": [
       "       alpha  colsample_bytree       eta  max_depth  \\\n",
       "0   6.176000          0.865021  0.197074       11.0   \n",
       "1   6.099982          0.706735  0.421171       10.0   \n",
       "2  11.751119          0.683698  0.171447       13.0   \n",
       "3  14.568682          0.424082  0.297383       13.0   \n",
       "4   4.140963          0.863324  0.182737       20.0   \n",
       "\n",
       "                            TrainingJobName TrainingJobStatus  \\\n",
       "0  dld-transactions-xgboost-v6-003-c9a4f50d           Stopped   \n",
       "1  dld-transactions-xgboost-v6-002-29dd7e04           Stopped   \n",
       "2  dld-transactions-xgboost-v6-001-dd9e4370         Completed   \n",
       "3  dld-transactions-xgboost-v6-004-85fec6ae           Stopped   \n",
       "4  dld-transactions-xgboost-v6-006-052e00eb           Stopped   \n",
       "\n",
       "   FinalObjectiveValue         TrainingStartTime           TrainingEndTime  \\\n",
       "0         300380.31250 2024-04-24 12:06:08+00:00 2024-04-24 12:09:35+00:00   \n",
       "1         300380.34375 2024-04-24 12:06:31+00:00 2024-04-24 12:09:19+00:00   \n",
       "2         300380.31250 2024-04-24 12:06:41+00:00 2024-04-24 12:10:25+00:00   \n",
       "3         300378.68750 2024-04-24 12:09:43+00:00 2024-04-24 12:10:34+00:00   \n",
       "4         300378.84375 2024-04-24 12:10:37+00:00 2024-04-24 12:12:12+00:00   \n",
       "\n",
       "   TrainingElapsedTimeSeconds   cumulative  \n",
       "0                       207.0  300380.3125  \n",
       "1                       168.0  300380.3125  \n",
       "2                       224.0  300380.3125  \n",
       "3                        51.0  300378.6875  \n",
       "4                        95.0  300378.6875  "
      ]
     },
     "execution_count": 34,
     "metadata": {},
     "output_type": "execute_result"
    }
   ],
   "source": [
    "results[:5]"
   ]
  },
  {
   "cell_type": "markdown",
   "metadata": {},
   "source": [
    "### Convergence speed"
   ]
  },
  {
   "cell_type": "code",
   "execution_count": 35,
   "metadata": {
    "tags": []
   },
   "outputs": [
    {
     "data": {
      "image/png": "[encoded data removed]",
      "text/plain": [
       "<Figure size 640x480 with 1 Axes>"
      ]
     },
     "metadata": {},
     "output_type": "display_data"
    }
   ],
   "source": [
    "# target vs iteration\n",
    "\n",
    "ax = (results.sort_values(by='TrainingStartTime', ascending=True)\n",
    " .reset_index()[['FinalObjectiveValue', 'cumulative']].plot())\n",
    "ax.set_xlabel('Training job')\n",
    "ax.set_ylabel('Objective Value');"
   ]
  },
  {
   "cell_type": "markdown",
   "metadata": {},
   "source": [
    "This allows us to display epoch-by-epoch performance of all iterations and highlight the best iteration"
   ]
  },
  {
   "cell_type": "code",
   "execution_count": 31,
   "metadata": {
    "tags": []
   },
   "outputs": [
    {
     "name": "stdout",
     "output_type": "stream",
     "text": [
      "Best Job: dld-transactions-xgboost-final-064-e87a47ee\n",
      "Status: Completed\n",
      "Metric Value: 369122.15625\n",
      "Artifact Path: s3://dld-transactions-project/XGBoost-Regressor-matrix/artifacts/dld-transactions-xgboost-final-064-e87a47ee/output/model.tar.gz\n"
     ]
    }
   ],
   "source": [
    "print('Best Job: {}'.format(best_job_name))\n",
    "print('Status: {}'.format(best_job_info['TrainingJobStatus']))\n",
    "print('Metric Value: {}'.format(best_job_info['FinalMetricDataList'][-1]['Value']))\n",
    "print('Artifact Path: {}'.format(best_job_info['ModelArtifacts']['S3ModelArtifacts']))"
   ]
  },
  {
   "cell_type": "code",
   "execution_count": 36,
   "metadata": {
    "tags": []
   },
   "outputs": [
    {
     "name": "stdout",
     "output_type": "stream",
     "text": [
      "Best Job Hyperparameters: {'_tuning_objective_metric': 'validation:rmse', 'alpha': '20.0', 'colsample_bytree': '0.43498850099479036', 'eta': '0.15006744105393405', 'eval_metric': 'rmse', 'max_depth': '15', 'num_round': '400', 'objective': 'reg:squarederror', 'rate_drop': '0.3', 'seed': '42'}\n"
     ]
    }
   ],
   "source": [
    "print('Best Job Hyperparameters: {}'.format(best_job_info['HyperParameters']))"
   ]
  },
  {
   "cell_type": "code",
   "execution_count": 118,
   "metadata": {
    "tags": []
   },
   "outputs": [],
   "source": [
    "# Code below works only for jobs with Completed status, due to enabled early stopping the best job might be not completed:\n",
    "\n",
    "# predictor = hyperparam_tuner.deploy(    \n",
    "#     instance_type = 'ml.m4.xlarge',\n",
    "#     initial_instance_count = 3,\n",
    "#     endpoint_name = job_name\n",
    "# )"
   ]
  },
  {
   "cell_type": "markdown",
   "metadata": {
    "tags": []
   },
   "source": [
    "## Build Model with Tuned Hyperparameters"
   ]
  },
  {
   "cell_type": "code",
   "execution_count": 33,
   "metadata": {
    "tags": []
   },
   "outputs": [],
   "source": [
    "from time import gmtime, strftime\n",
    "\n",
    "timestamp_prefix = strftime(\"%Y-%m-%d-%H-%M-%S\", gmtime())\n",
    "model_name = 'inference-pipeline-' + timestamp_prefix\n",
    "endpoint_name = 'xgboost-inference-pipeline-ep-' + timestamp_prefix\n",
    "\n",
    "\n",
    "estimator = sagemaker.estimator.Estimator(\n",
    "    sagemaker_session = sagemaker_session,\n",
    "    image_uri = container,\n",
    "    base_job_name = model_name,\n",
    "    role = role,\n",
    "    output_path=s3_model_output_path,\n",
    "    instance_type = 'ml.m4.xlarge',\n",
    "    instance_count = 1\n",
    ")"
   ]
  },
  {
   "cell_type": "code",
   "execution_count": 37,
   "metadata": {
    "tags": []
   },
   "outputs": [],
   "source": [
    "estimator.set_hyperparameters(\n",
    "    max_depth=15,\n",
    "    eta=0.15006744105393405,\n",
    "    num_round=400,\n",
    "    colsample_bytree=0.43498850099479036,\n",
    "    objective=\"reg:squarederror\",\n",
    "    rate_drop=0.3,\n",
    "    seed=42\n",
    ")"
   ]
  },
  {
   "cell_type": "code",
   "execution_count": 38,
   "metadata": {
    "tags": []
   },
   "outputs": [
    {
     "data": {
      "text/plain": [
       "{'max_depth': 15,\n",
       " 'eta': 0.15006744105393405,\n",
       " 'num_round': 400,\n",
       " 'colsample_bytree': 0.43498850099479036,\n",
       " 'objective': 'reg:squarederror',\n",
       " 'rate_drop': 0.3,\n",
       " 'seed': 42}"
      ]
     },
     "execution_count": 38,
     "metadata": {},
     "output_type": "execute_result"
    }
   ],
   "source": [
    "estimator.hyperparameters()"
   ]
  },
  {
   "cell_type": "markdown",
   "metadata": {},
   "source": [
    "### Specify Training Data Location and Optionally, Validation Data Location"
   ]
  },
  {
   "cell_type": "code",
   "execution_count": 39,
   "metadata": {
    "tags": []
   },
   "outputs": [],
   "source": [
    "# content type can be libsvm or csv for XGBoost\n",
    "training_input_config = sagemaker.session.TrainingInput(\n",
    "    s3_data=s3_train_path,\n",
    "    content_type='csv',\n",
    "    s3_data_type='S3Prefix')\n",
    "\n",
    "validation_input_config = sagemaker.session.TrainingInput(\n",
    "    s3_data=s3_validation_path,\n",
    "    content_type='csv',\n",
    "    s3_data_type='S3Prefix'\n",
    ")\n",
    "\n",
    "data_channels = {'train': training_input_config, 'validation': validation_input_config}\n"
   ]
  },
  {
   "cell_type": "code",
   "execution_count": 40,
   "metadata": {
    "tags": []
   },
   "outputs": [
    {
     "name": "stdout",
     "output_type": "stream",
     "text": [
      "{'DataSource': {'S3DataSource': {'S3DataType': 'S3Prefix', 'S3Uri': 's3://dld-transactions-project/XGBoost-Regressor-matrix/train/train.csv', 'S3DataDistributionType': 'FullyReplicated'}}, 'ContentType': 'csv'}\n",
      "{'DataSource': {'S3DataSource': {'S3DataType': 'S3Prefix', 'S3Uri': 's3://dld-transactions-project/XGBoost-Regressor-matrix/validation/validation.csv', 'S3DataDistributionType': 'FullyReplicated'}}, 'ContentType': 'csv'}\n"
     ]
    }
   ],
   "source": [
    "print(training_input_config.config)\n",
    "print(validation_input_config.config)"
   ]
  },
  {
   "cell_type": "markdown",
   "metadata": {},
   "source": [
    "### Train the model"
   ]
  },
  {
   "cell_type": "code",
   "execution_count": 41,
   "metadata": {
    "tags": []
   },
   "outputs": [
    {
     "name": "stderr",
     "output_type": "stream",
     "text": [
      "INFO:sagemaker:Creating training-job with name: inference-pipeline-2024-05-01-11-42-36-2024-05-01-11-45-21-939\n"
     ]
    },
    {
     "name": "stdout",
     "output_type": "stream",
     "text": [
      "2024-05-01 11:45:22 Starting - Starting the training job...\n",
      "2024-05-01 11:45:36 Starting - Preparing the instances for training...\n",
      "2024-05-01 11:46:19 Downloading - Downloading input data......\n",
      "2024-05-01 11:47:20 Downloading - Downloading the training image......\n",
      "2024-05-01 11:48:05 Training - Training image download completed. Training in progress..\u001b[34m[2024-05-01 11:48:21.793 ip-10-0-148-37.ec2.internal:7 INFO utils.py:28] RULE_JOB_STOP_SIGNAL_FILENAME: None\u001b[0m\n",
      "\u001b[34m[2024-05-01 11:48:21.829 ip-10-0-148-37.ec2.internal:7 INFO profiler_config_parser.py:111] User has disabled profiler.\u001b[0m\n",
      "\u001b[34m[2024-05-01:11:48:22:INFO] Imported framework sagemaker_xgboost_container.training\u001b[0m\n",
      "\u001b[34m[2024-05-01:11:48:22:INFO] Failed to parse hyperparameter objective value reg:squarederror to Json.\u001b[0m\n",
      "\u001b[34mReturning the value itself\u001b[0m\n",
      "\u001b[34m[2024-05-01:11:48:22:INFO] No GPUs detected (normal if no gpus installed)\u001b[0m\n",
      "\u001b[34m[2024-05-01:11:48:22:INFO] Running XGBoost Sagemaker in algorithm mode\u001b[0m\n",
      "\u001b[34m[2024-05-01:11:48:22:INFO] Determined 0 GPU(s) available on the instance.\u001b[0m\n",
      "\u001b[34m[2024-05-01:11:48:22:INFO] Determined delimiter of CSV input is ','\u001b[0m\n",
      "\u001b[34m[2024-05-01:11:48:22:INFO] Determined delimiter of CSV input is ','\u001b[0m\n",
      "\u001b[34m[2024-05-01:11:48:22:INFO] File path /opt/ml/input/data/train of input files\u001b[0m\n",
      "\u001b[34m[2024-05-01:11:48:22:INFO] Making smlinks from folder /opt/ml/input/data/train to folder /tmp/sagemaker_xgboost_input_data\u001b[0m\n",
      "\u001b[34m[2024-05-01:11:48:22:INFO] creating symlink between Path /opt/ml/input/data/train/train.csv and destination /tmp/sagemaker_xgboost_input_data/train.csv1572828507822676305\u001b[0m\n",
      "\u001b[34m[2024-05-01:11:48:22:INFO] files path: /tmp/sagemaker_xgboost_input_data\u001b[0m\n",
      "\u001b[34m[2024-05-01:11:48:22:INFO] Determined delimiter of CSV input is ','\u001b[0m\n",
      "\u001b[34m[2024-05-01:11:48:33:INFO] File path /opt/ml/input/data/validation of input files\u001b[0m\n",
      "\u001b[34m[2024-05-01:11:48:33:INFO] Making smlinks from folder /opt/ml/input/data/validation to folder /tmp/sagemaker_xgboost_input_data\u001b[0m\n",
      "\u001b[34m[2024-05-01:11:48:33:INFO] creating symlink between Path /opt/ml/input/data/validation/validation.csv and destination /tmp/sagemaker_xgboost_input_data/validation.csv-4442846184599644398\u001b[0m\n",
      "\u001b[34m[2024-05-01:11:48:33:INFO] files path: /tmp/sagemaker_xgboost_input_data\u001b[0m\n",
      "\u001b[34m[2024-05-01:11:48:33:INFO] Determined delimiter of CSV input is ','\u001b[0m\n",
      "\u001b[34m[2024-05-01:11:48:34:INFO] Single node training.\u001b[0m\n",
      "\u001b[34m[2024-05-01:11:48:34:INFO] Train matrix has 608652 rows and 292 columns\u001b[0m\n",
      "\u001b[34m[2024-05-01:11:48:34:INFO] Validation matrix has 76083 rows\u001b[0m\n",
      "\u001b[34m[2024-05-01 11:48:34.680 ip-10-0-148-37.ec2.internal:7 INFO json_config.py:92] Creating hook from json_config at /opt/ml/input/config/debughookconfig.json.\u001b[0m\n",
      "\u001b[34m[2024-05-01 11:48:34.681 ip-10-0-148-37.ec2.internal:7 INFO hook.py:206] tensorboard_dir has not been set for the hook. SMDebug will not be exporting tensorboard summaries.\u001b[0m\n",
      "\u001b[34m[2024-05-01 11:48:34.682 ip-10-0-148-37.ec2.internal:7 INFO hook.py:259] Saving to /opt/ml/output/tensors\u001b[0m\n",
      "\u001b[34m[2024-05-01 11:48:34.682 ip-10-0-148-37.ec2.internal:7 INFO state_store.py:77] The checkpoint config file /opt/ml/input/config/checkpointconfig.json does not exist.\u001b[0m\n",
      "\u001b[34m[2024-05-01:11:48:34:INFO] Debug hook created from config\u001b[0m\n",
      "\u001b[34m[11:48:34] WARNING: ../src/learner.cc:767: \u001b[0m\n",
      "\u001b[34mParameters: { \"rate_drop\" } are not used.\u001b[0m\n",
      "\u001b[34m[0]#011train-rmse:1466418.82746#011validation-rmse:1476092.43612\u001b[0m\n",
      "\u001b[34m[2024-05-01 11:48:51.484 ip-10-0-148-37.ec2.internal:7 INFO hook.py:427] Monitoring the collections: metrics\u001b[0m\n",
      "\u001b[34m[2024-05-01 11:48:51.488 ip-10-0-148-37.ec2.internal:7 INFO hook.py:491] Hook is writing from the hook with pid: 7\u001b[0m\n",
      "\u001b[34m[1]#011train-rmse:1282681.51258#011validation-rmse:1291903.73458\u001b[0m\n",
      "\u001b[34m[2]#011train-rmse:1118244.45801#011validation-rmse:1127669.40945\u001b[0m\n",
      "\u001b[34m[3]#011train-rmse:978179.52933#011validation-rmse:988027.29133\u001b[0m\n",
      "\u001b[34m[4]#011train-rmse:876623.35480#011validation-rmse:886922.39286\u001b[0m\n",
      "\u001b[34m[5]#011train-rmse:779190.81835#011validation-rmse:790353.91352\u001b[0m\n",
      "\u001b[34m[6]#011train-rmse:710883.73120#011validation-rmse:722404.52126\u001b[0m\n",
      "\u001b[34m[7]#011train-rmse:652705.17506#011validation-rmse:664449.55003\u001b[0m\n",
      "\u001b[34m[8]#011train-rmse:610916.41393#011validation-rmse:622856.21140\u001b[0m\n",
      "\u001b[34m[9]#011train-rmse:576188.79379#011validation-rmse:588357.23639\u001b[0m\n",
      "\u001b[34m[10]#011train-rmse:531360.80666#011validation-rmse:544811.50996\u001b[0m\n",
      "\u001b[34m[11]#011train-rmse:511934.60719#011validation-rmse:525671.79373\u001b[0m\n",
      "\u001b[34m[12]#011train-rmse:480195.51558#011validation-rmse:495419.62513\u001b[0m\n",
      "\u001b[34m[13]#011train-rmse:454768.66211#011validation-rmse:471342.56029\u001b[0m\n",
      "\u001b[34m[14]#011train-rmse:433790.47307#011validation-rmse:451883.21493\u001b[0m\n",
      "\u001b[34m[15]#011train-rmse:424965.37875#011validation-rmse:443330.14792\u001b[0m\n",
      "\u001b[34m[16]#011train-rmse:410939.93581#011validation-rmse:430506.36615\u001b[0m\n",
      "\u001b[34m[17]#011train-rmse:399355.16125#011validation-rmse:420154.27968\u001b[0m\n",
      "\u001b[34m[18]#011train-rmse:390121.45345#011validation-rmse:411866.14909\u001b[0m\n",
      "\u001b[34m[19]#011train-rmse:386873.37666#011validation-rmse:408820.64486\u001b[0m\n",
      "\u001b[34m[20]#011train-rmse:379125.81265#011validation-rmse:402249.04092\u001b[0m\n",
      "\u001b[34m[21]#011train-rmse:373558.38218#011validation-rmse:397656.53905\u001b[0m\n",
      "\u001b[34m[22]#011train-rmse:372237.04028#011validation-rmse:396376.19776\u001b[0m\n",
      "\u001b[34m[23]#011train-rmse:370808.44856#011validation-rmse:394983.65364\u001b[0m\n",
      "\u001b[34m[24]#011train-rmse:366407.83829#011validation-rmse:391336.56120\u001b[0m\n",
      "\u001b[34m[25]#011train-rmse:365643.95442#011validation-rmse:390578.75134\u001b[0m\n",
      "\u001b[34m[26]#011train-rmse:364695.50177#011validation-rmse:389664.62140\u001b[0m\n",
      "\u001b[34m[27]#011train-rmse:363482.23875#011validation-rmse:388510.76483\u001b[0m\n",
      "\u001b[34m[28]#011train-rmse:362917.77091#011validation-rmse:387985.49421\u001b[0m\n",
      "\u001b[34m[29]#011train-rmse:362403.83355#011validation-rmse:387500.06692\u001b[0m\n",
      "\u001b[34m[30]#011train-rmse:359751.18877#011validation-rmse:385438.89176\u001b[0m\n",
      "\u001b[34m[31]#011train-rmse:357035.44093#011validation-rmse:383317.97596\u001b[0m\n",
      "\u001b[34m[32]#011train-rmse:354757.39463#011validation-rmse:381726.80574\u001b[0m\n",
      "\u001b[34m[33]#011train-rmse:354572.18141#011validation-rmse:381553.41861\u001b[0m\n",
      "\u001b[34m[34]#011train-rmse:354356.95535#011validation-rmse:381334.02493\u001b[0m\n",
      "\u001b[34m[35]#011train-rmse:352750.55280#011validation-rmse:380309.66918\u001b[0m\n",
      "\u001b[34m[36]#011train-rmse:351037.29516#011validation-rmse:379062.86618\u001b[0m\n",
      "\u001b[34m[37]#011train-rmse:350931.65618#011validation-rmse:378962.16835\u001b[0m\n",
      "\u001b[34m[38]#011train-rmse:348926.37667#011validation-rmse:377455.05978\u001b[0m\n",
      "\u001b[34m[39]#011train-rmse:348795.17785#011validation-rmse:377320.15337\u001b[0m\n",
      "\u001b[34m[40]#011train-rmse:348573.56607#011validation-rmse:377101.36760\u001b[0m\n",
      "\u001b[34m[41]#011train-rmse:347677.47591#011validation-rmse:376517.63884\u001b[0m\n",
      "\u001b[34m[42]#011train-rmse:346447.99691#011validation-rmse:375714.00871\u001b[0m\n",
      "\u001b[34m[43]#011train-rmse:345234.54079#011validation-rmse:374889.09002\u001b[0m\n",
      "\u001b[34m[44]#011train-rmse:344457.18818#011validation-rmse:374368.06688\u001b[0m\n",
      "\u001b[34m[45]#011train-rmse:343086.57976#011validation-rmse:373535.72488\u001b[0m\n",
      "\u001b[34m[46]#011train-rmse:342468.09016#011validation-rmse:373143.60188\u001b[0m\n",
      "\u001b[34m[47]#011train-rmse:342016.43786#011validation-rmse:372956.38858\u001b[0m\n",
      "\u001b[34m[48]#011train-rmse:341378.14082#011validation-rmse:372561.32489\u001b[0m\n",
      "\u001b[34m[49]#011train-rmse:341338.15519#011validation-rmse:372516.75577\u001b[0m\n",
      "\u001b[34m[50]#011train-rmse:341058.22418#011validation-rmse:372380.95915\u001b[0m\n",
      "\u001b[34m[51]#011train-rmse:340496.83193#011validation-rmse:372116.25224\u001b[0m\n",
      "\u001b[34m[52]#011train-rmse:340207.51299#011validation-rmse:371984.43817\u001b[0m\n",
      "\u001b[34m[53]#011train-rmse:339934.90566#011validation-rmse:371851.91958\u001b[0m\n",
      "\u001b[34m[54]#011train-rmse:339569.43898#011validation-rmse:371678.40646\u001b[0m\n",
      "\u001b[34m[55]#011train-rmse:339537.06224#011validation-rmse:371649.31388\u001b[0m\n",
      "\u001b[34m[56]#011train-rmse:339235.26671#011validation-rmse:371568.39475\u001b[0m\n",
      "\u001b[34m[57]#011train-rmse:339166.26560#011validation-rmse:371501.24154\u001b[0m\n",
      "\u001b[34m[58]#011train-rmse:339137.96239#011validation-rmse:371476.60316\u001b[0m\n",
      "\u001b[34m[59]#011train-rmse:339082.24327#011validation-rmse:371415.92216\u001b[0m\n",
      "\u001b[34m[60]#011train-rmse:339047.32656#011validation-rmse:371393.81334\u001b[0m\n",
      "\u001b[34m[61]#011train-rmse:338863.55937#011validation-rmse:371328.64753\u001b[0m\n",
      "\u001b[34m[62]#011train-rmse:338846.73535#011validation-rmse:371305.28713\u001b[0m\n",
      "\u001b[34m[63]#011train-rmse:338241.20056#011validation-rmse:370845.57451\u001b[0m\n",
      "\u001b[34m[64]#011train-rmse:338220.65203#011validation-rmse:370836.97310\u001b[0m\n",
      "\u001b[34m[65]#011train-rmse:338160.90909#011validation-rmse:370785.38193\u001b[0m\n",
      "\u001b[34m[66]#011train-rmse:337851.47470#011validation-rmse:370641.00904\u001b[0m\n",
      "\u001b[34m[67]#011train-rmse:337469.34912#011validation-rmse:370476.17080\u001b[0m\n",
      "\u001b[34m[68]#011train-rmse:337442.26069#011validation-rmse:370455.69498\u001b[0m\n",
      "\u001b[34m[69]#011train-rmse:337306.80831#011validation-rmse:370395.63640\u001b[0m\n",
      "\u001b[34m[70]#011train-rmse:337270.36917#011validation-rmse:370362.23870\u001b[0m\n",
      "\u001b[34m[71]#011train-rmse:337212.59830#011validation-rmse:370303.38407\u001b[0m\n",
      "\u001b[34m[72]#011train-rmse:337181.28361#011validation-rmse:370280.65690\u001b[0m\n",
      "\u001b[34m[73]#011train-rmse:336776.19679#011validation-rmse:370030.38904\u001b[0m\n",
      "\u001b[34m[74]#011train-rmse:336764.21603#011validation-rmse:370023.12428\u001b[0m\n",
      "\u001b[34m[75]#011train-rmse:336742.22554#011validation-rmse:370006.41862\u001b[0m\n",
      "\u001b[34m[76]#011train-rmse:336709.32236#011validation-rmse:369981.77098\u001b[0m\n",
      "\u001b[34m[77]#011train-rmse:336666.51907#011validation-rmse:369955.80718\u001b[0m\n",
      "\u001b[34m[78]#011train-rmse:336335.73419#011validation-rmse:369804.91774\u001b[0m\n",
      "\u001b[34m[79]#011train-rmse:335785.64035#011validation-rmse:369426.18358\u001b[0m\n",
      "\u001b[34m[80]#011train-rmse:335348.27295#011validation-rmse:369140.84967\u001b[0m\n",
      "\u001b[34m[81]#011train-rmse:335331.96708#011validation-rmse:369127.11290\u001b[0m\n",
      "\u001b[34m[82]#011train-rmse:335316.77128#011validation-rmse:369117.34044\u001b[0m\n",
      "\u001b[34m[83]#011train-rmse:335220.32816#011validation-rmse:369098.24786\u001b[0m\n",
      "\u001b[34m[84]#011train-rmse:335187.23019#011validation-rmse:369083.25320\u001b[0m\n",
      "\u001b[34m[85]#011train-rmse:334942.91842#011validation-rmse:369043.66745\u001b[0m\n",
      "\u001b[34m[86]#011train-rmse:334922.41417#011validation-rmse:369020.70351\u001b[0m\n",
      "\u001b[34m[87]#011train-rmse:334737.76515#011validation-rmse:368907.94520\u001b[0m\n",
      "\u001b[34m[88]#011train-rmse:334511.78927#011validation-rmse:368847.58331\u001b[0m\n",
      "\u001b[34m[89]#011train-rmse:334129.79349#011validation-rmse:368523.46663\u001b[0m\n",
      "\u001b[34m[90]#011train-rmse:333838.76326#011validation-rmse:368414.83912\u001b[0m\n",
      "\u001b[34m[91]#011train-rmse:333823.44408#011validation-rmse:368399.63530\u001b[0m\n",
      "\u001b[34m[92]#011train-rmse:333800.49657#011validation-rmse:368377.06889\u001b[0m\n",
      "\u001b[34m[93]#011train-rmse:333702.34815#011validation-rmse:368372.16157\u001b[0m\n",
      "\u001b[34m[94]#011train-rmse:333685.22939#011validation-rmse:368350.49208\u001b[0m\n",
      "\u001b[34m[95]#011train-rmse:333523.24027#011validation-rmse:368251.28633\u001b[0m\n",
      "\u001b[34m[96]#011train-rmse:332937.93879#011validation-rmse:367842.74987\u001b[0m\n",
      "\u001b[34m[97]#011train-rmse:332897.34038#011validation-rmse:367794.68924\u001b[0m\n",
      "\u001b[34m[98]#011train-rmse:332824.53582#011validation-rmse:367762.76108\u001b[0m\n",
      "\u001b[34m[99]#011train-rmse:332784.88623#011validation-rmse:367730.27414\u001b[0m\n",
      "\u001b[34m[100]#011train-rmse:332692.41921#011validation-rmse:367667.67453\u001b[0m\n",
      "\u001b[34m[101]#011train-rmse:332385.47543#011validation-rmse:367532.61588\u001b[0m\n",
      "\u001b[34m[102]#011train-rmse:332238.46903#011validation-rmse:367429.75644\u001b[0m\n",
      "\u001b[34m[103]#011train-rmse:331913.46879#011validation-rmse:367196.93633\u001b[0m\n",
      "\u001b[34m[104]#011train-rmse:331696.58484#011validation-rmse:367109.79884\u001b[0m\n",
      "\u001b[34m[105]#011train-rmse:331688.91559#011validation-rmse:367100.79655\u001b[0m\n",
      "\u001b[34m[106]#011train-rmse:331607.07175#011validation-rmse:367017.75969\u001b[0m\n",
      "\u001b[34m[107]#011train-rmse:331143.42841#011validation-rmse:366732.86370\u001b[0m\n",
      "\u001b[34m[108]#011train-rmse:331073.98707#011validation-rmse:366682.48165\u001b[0m\n",
      "\u001b[34m[109]#011train-rmse:331059.90082#011validation-rmse:366675.50410\u001b[0m\n",
      "\u001b[34m[110]#011train-rmse:331012.96121#011validation-rmse:366629.88250\u001b[0m\n",
      "\u001b[34m[111]#011train-rmse:330347.59154#011validation-rmse:366287.23813\u001b[0m\n",
      "\u001b[34m[112]#011train-rmse:330010.16889#011validation-rmse:366212.61387\u001b[0m\n",
      "\u001b[34m[113]#011train-rmse:329966.16225#011validation-rmse:366179.80469\u001b[0m\n",
      "\u001b[34m[114]#011train-rmse:329670.53937#011validation-rmse:366036.76185\u001b[0m\n",
      "\u001b[34m[115]#011train-rmse:329652.34137#011validation-rmse:366030.81462\u001b[0m\n",
      "\u001b[34m[116]#011train-rmse:329597.89419#011validation-rmse:365980.60078\u001b[0m\n",
      "\u001b[34m[117]#011train-rmse:329482.17973#011validation-rmse:365967.00892\u001b[0m\n",
      "\u001b[34m[118]#011train-rmse:329423.21537#011validation-rmse:365954.68219\u001b[0m\n",
      "\u001b[34m[119]#011train-rmse:328980.55316#011validation-rmse:365684.01450\u001b[0m\n",
      "\u001b[34m[120]#011train-rmse:328916.94663#011validation-rmse:365637.91127\u001b[0m\n",
      "\u001b[34m[121]#011train-rmse:328238.34402#011validation-rmse:365251.30047\u001b[0m\n",
      "\u001b[34m[122]#011train-rmse:327780.54359#011validation-rmse:364999.04337\u001b[0m\n",
      "\u001b[34m[123]#011train-rmse:327437.32544#011validation-rmse:364774.54339\u001b[0m\n",
      "\u001b[34m[124]#011train-rmse:326892.41294#011validation-rmse:364429.46406\u001b[0m\n",
      "\u001b[34m[125]#011train-rmse:326736.73204#011validation-rmse:364425.28376\u001b[0m\n",
      "\u001b[34m[126]#011train-rmse:326658.06923#011validation-rmse:364400.80275\u001b[0m\n",
      "\u001b[34m[127]#011train-rmse:326207.39588#011validation-rmse:364123.07330\u001b[0m\n",
      "\u001b[34m[128]#011train-rmse:326175.05680#011validation-rmse:364096.30584\u001b[0m\n",
      "\u001b[34m[129]#011train-rmse:326154.41100#011validation-rmse:364075.89915\u001b[0m\n",
      "\u001b[34m[130]#011train-rmse:326141.01096#011validation-rmse:364065.18882\u001b[0m\n",
      "\u001b[34m[131]#011train-rmse:325915.83867#011validation-rmse:364001.29614\u001b[0m\n",
      "\u001b[34m[132]#011train-rmse:325862.11689#011validation-rmse:363967.20284\u001b[0m\n",
      "\u001b[34m[133]#011train-rmse:325757.21424#011validation-rmse:363937.77080\u001b[0m\n",
      "\u001b[34m[134]#011train-rmse:325686.73520#011validation-rmse:363958.17337\u001b[0m\n",
      "\u001b[34m[135]#011train-rmse:325612.29528#011validation-rmse:363912.79660\u001b[0m\n",
      "\u001b[34m[136]#011train-rmse:325376.25684#011validation-rmse:363794.97793\u001b[0m\n",
      "\u001b[34m[137]#011train-rmse:325352.70699#011validation-rmse:363768.22870\u001b[0m\n",
      "\u001b[34m[138]#011train-rmse:325051.19681#011validation-rmse:363607.10232\u001b[0m\n",
      "\u001b[34m[139]#011train-rmse:325047.12491#011validation-rmse:363603.46360\u001b[0m\n",
      "\u001b[34m[140]#011train-rmse:324991.31413#011validation-rmse:363605.47927\u001b[0m\n",
      "\u001b[34m[141]#011train-rmse:324981.08645#011validation-rmse:363599.06419\u001b[0m\n",
      "\u001b[34m[142]#011train-rmse:324967.48795#011validation-rmse:363589.63874\u001b[0m\n",
      "\u001b[34m[143]#011train-rmse:324758.43815#011validation-rmse:363501.11356\u001b[0m\n",
      "\u001b[34m[144]#011train-rmse:324750.03024#011validation-rmse:363497.09153\u001b[0m\n",
      "\u001b[34m[145]#011train-rmse:324630.42316#011validation-rmse:363434.46462\u001b[0m\n",
      "\u001b[34m[146]#011train-rmse:324612.30558#011validation-rmse:363421.37970\u001b[0m\n",
      "\u001b[34m[147]#011train-rmse:324363.69802#011validation-rmse:363295.24989\u001b[0m\n",
      "\u001b[34m[148]#011train-rmse:324249.66803#011validation-rmse:363278.79009\u001b[0m\n",
      "\u001b[34m[149]#011train-rmse:324227.92928#011validation-rmse:363259.78650\u001b[0m\n",
      "\u001b[34m[150]#011train-rmse:324186.62174#011validation-rmse:363240.49310\u001b[0m\n",
      "\u001b[34m[151]#011train-rmse:324182.96576#011validation-rmse:363240.15532\u001b[0m\n",
      "\u001b[34m[152]#011train-rmse:323941.82968#011validation-rmse:363125.48529\u001b[0m\n",
      "\u001b[34m[153]#011train-rmse:323907.08127#011validation-rmse:363100.00672\u001b[0m\n",
      "\u001b[34m[154]#011train-rmse:323904.46521#011validation-rmse:363098.81989\u001b[0m\n",
      "\u001b[34m[155]#011train-rmse:323897.33422#011validation-rmse:363094.30567\u001b[0m\n",
      "\u001b[34m[156]#011train-rmse:323826.68736#011validation-rmse:363047.93950\u001b[0m\n",
      "\u001b[34m[157]#011train-rmse:323765.31951#011validation-rmse:363055.83725\u001b[0m\n",
      "\u001b[34m[158]#011train-rmse:323428.59984#011validation-rmse:362882.92896\u001b[0m\n",
      "\u001b[34m[159]#011train-rmse:323121.45500#011validation-rmse:362678.89965\u001b[0m\n",
      "\u001b[34m[160]#011train-rmse:322816.82541#011validation-rmse:362617.47277\u001b[0m\n",
      "\u001b[34m[161]#011train-rmse:322604.99878#011validation-rmse:362587.69370\u001b[0m\n",
      "\u001b[34m[162]#011train-rmse:322569.10537#011validation-rmse:362562.46265\u001b[0m\n",
      "\u001b[34m[163]#011train-rmse:322561.77636#011validation-rmse:362554.80199\u001b[0m\n",
      "\u001b[34m[164]#011train-rmse:322521.32323#011validation-rmse:362531.05925\u001b[0m\n",
      "\u001b[34m[165]#011train-rmse:322178.92599#011validation-rmse:362392.23990\u001b[0m\n",
      "\u001b[34m[166]#011train-rmse:322155.46647#011validation-rmse:362372.00684\u001b[0m\n",
      "\u001b[34m[167]#011train-rmse:322144.89071#011validation-rmse:362363.87263\u001b[0m\n",
      "\u001b[34m[168]#011train-rmse:321908.57607#011validation-rmse:362188.66792\u001b[0m\n",
      "\u001b[34m[169]#011train-rmse:321602.43553#011validation-rmse:362077.33614\u001b[0m\n",
      "\u001b[34m[170]#011train-rmse:321480.16332#011validation-rmse:362041.76866\u001b[0m\n",
      "\u001b[34m[171]#011train-rmse:321387.64795#011validation-rmse:362031.22875\u001b[0m\n",
      "\u001b[34m[172]#011train-rmse:321368.28722#011validation-rmse:362019.63848\u001b[0m\n",
      "\u001b[34m[173]#011train-rmse:321326.10487#011validation-rmse:361989.63946\u001b[0m\n",
      "\u001b[34m[174]#011train-rmse:321309.81918#011validation-rmse:361978.90180\u001b[0m\n",
      "\u001b[34m[175]#011train-rmse:321029.17979#011validation-rmse:361865.44728\u001b[0m\n",
      "\u001b[34m[176]#011train-rmse:320843.72629#011validation-rmse:361780.33885\u001b[0m\n",
      "\u001b[34m[177]#011train-rmse:320814.79581#011validation-rmse:361765.07337\u001b[0m\n",
      "\u001b[34m[178]#011train-rmse:320785.37027#011validation-rmse:361752.52662\u001b[0m\n",
      "\u001b[34m[179]#011train-rmse:320534.85061#011validation-rmse:361632.58796\u001b[0m\n",
      "\u001b[34m[180]#011train-rmse:320524.05563#011validation-rmse:361620.13251\u001b[0m\n",
      "\u001b[34m[181]#011train-rmse:320510.59145#011validation-rmse:361607.14113\u001b[0m\n",
      "\u001b[34m[182]#011train-rmse:320502.51200#011validation-rmse:361596.41809\u001b[0m\n",
      "\u001b[34m[183]#011train-rmse:320484.19302#011validation-rmse:361588.20019\u001b[0m\n",
      "\u001b[34m[184]#011train-rmse:320478.25737#011validation-rmse:361582.96425\u001b[0m\n",
      "\u001b[34m[185]#011train-rmse:320469.95060#011validation-rmse:361577.44545\u001b[0m\n",
      "\u001b[34m[186]#011train-rmse:320266.39971#011validation-rmse:361483.24115\u001b[0m\n",
      "\u001b[34m[187]#011train-rmse:320253.62138#011validation-rmse:361476.75817\u001b[0m\n",
      "\u001b[34m[188]#011train-rmse:320158.94730#011validation-rmse:361452.83804\u001b[0m\n",
      "\u001b[34m[189]#011train-rmse:320149.99977#011validation-rmse:361450.50912\u001b[0m\n",
      "\u001b[34m[190]#011train-rmse:320136.45723#011validation-rmse:361439.91583\u001b[0m\n",
      "\u001b[34m[191]#011train-rmse:320119.27714#011validation-rmse:361435.28673\u001b[0m\n",
      "\u001b[34m[192]#011train-rmse:320007.05824#011validation-rmse:361355.70820\u001b[0m\n",
      "\u001b[34m[193]#011train-rmse:319983.76059#011validation-rmse:361330.79549\u001b[0m\n",
      "\u001b[34m[194]#011train-rmse:319747.57420#011validation-rmse:361291.69014\u001b[0m\n",
      "\u001b[34m[195]#011train-rmse:319725.86463#011validation-rmse:361288.50918\u001b[0m\n",
      "\u001b[34m[196]#011train-rmse:319644.76694#011validation-rmse:361235.98224\u001b[0m\n",
      "\u001b[34m[197]#011train-rmse:319643.09162#011validation-rmse:361234.83288\u001b[0m\n",
      "\u001b[34m[198]#011train-rmse:319607.97961#011validation-rmse:361221.28516\u001b[0m\n",
      "\u001b[34m[199]#011train-rmse:319584.02707#011validation-rmse:361210.97790\u001b[0m\n",
      "\u001b[34m[200]#011train-rmse:319577.80546#011validation-rmse:361209.42710\u001b[0m\n",
      "\u001b[34m[201]#011train-rmse:319575.16227#011validation-rmse:361207.13974\u001b[0m\n",
      "\u001b[34m[202]#011train-rmse:319557.69115#011validation-rmse:361198.98484\u001b[0m\n",
      "\u001b[34m[203]#011train-rmse:319547.04744#011validation-rmse:361193.07504\u001b[0m\n",
      "\u001b[34m[204]#011train-rmse:319528.29726#011validation-rmse:361176.78367\u001b[0m\n",
      "\u001b[34m[205]#011train-rmse:319520.14873#011validation-rmse:361172.53551\u001b[0m\n",
      "\u001b[34m[206]#011train-rmse:319411.32122#011validation-rmse:361139.39051\u001b[0m\n",
      "\u001b[34m[207]#011train-rmse:319406.20651#011validation-rmse:361137.01279\u001b[0m\n",
      "\u001b[34m[208]#011train-rmse:319385.03685#011validation-rmse:361116.25639\u001b[0m\n",
      "\u001b[34m[209]#011train-rmse:319371.08352#011validation-rmse:361107.50125\u001b[0m\n",
      "\u001b[34m[210]#011train-rmse:319369.24037#011validation-rmse:361105.17004\u001b[0m\n",
      "\u001b[34m[211]#011train-rmse:319352.75758#011validation-rmse:361091.33361\u001b[0m\n",
      "\u001b[34m[212]#011train-rmse:319340.24516#011validation-rmse:361082.09509\u001b[0m\n",
      "\u001b[34m[213]#011train-rmse:319334.58711#011validation-rmse:361081.99352\u001b[0m\n",
      "\u001b[34m[214]#011train-rmse:319327.99629#011validation-rmse:361075.78910\u001b[0m\n",
      "\u001b[34m[215]#011train-rmse:319045.41167#011validation-rmse:360905.85738\u001b[0m\n",
      "\u001b[34m[216]#011train-rmse:319040.91161#011validation-rmse:360903.61706\u001b[0m\n",
      "\u001b[34m[217]#011train-rmse:319035.53640#011validation-rmse:360899.30468\u001b[0m\n",
      "\u001b[34m[218]#011train-rmse:319023.51814#011validation-rmse:360892.84705\u001b[0m\n",
      "\u001b[34m[219]#011train-rmse:318998.94648#011validation-rmse:360879.98203\u001b[0m\n",
      "\u001b[34m[220]#011train-rmse:318996.86973#011validation-rmse:360881.96194\u001b[0m\n",
      "\u001b[34m[221]#011train-rmse:318991.51606#011validation-rmse:360877.87830\u001b[0m\n",
      "\u001b[34m[222]#011train-rmse:318769.28488#011validation-rmse:360759.14269\u001b[0m\n",
      "\u001b[34m[223]#011train-rmse:318456.70733#011validation-rmse:360599.42635\u001b[0m\n",
      "\u001b[34m[224]#011train-rmse:318453.37251#011validation-rmse:360597.11453\u001b[0m\n",
      "\u001b[34m[225]#011train-rmse:318230.44598#011validation-rmse:360525.87752\u001b[0m\n",
      "\u001b[34m[226]#011train-rmse:318218.24781#011validation-rmse:360512.47008\u001b[0m\n",
      "\u001b[34m[227]#011train-rmse:318189.10715#011validation-rmse:360497.45671\u001b[0m\n",
      "\u001b[34m[228]#011train-rmse:318174.26044#011validation-rmse:360483.02969\u001b[0m\n",
      "\u001b[34m[229]#011train-rmse:317800.80589#011validation-rmse:360239.30824\u001b[0m\n",
      "\u001b[34m[230]#011train-rmse:317794.19613#011validation-rmse:360239.66945\u001b[0m\n",
      "\u001b[34m[231]#011train-rmse:317585.09421#011validation-rmse:360195.13139\u001b[0m\n",
      "\u001b[34m[232]#011train-rmse:317463.21837#011validation-rmse:360175.83128\u001b[0m\n",
      "\u001b[34m[233]#011train-rmse:317461.86327#011validation-rmse:360176.57823\u001b[0m\n",
      "\u001b[34m[234]#011train-rmse:317449.07579#011validation-rmse:360174.06684\u001b[0m\n",
      "\u001b[34m[235]#011train-rmse:317441.99202#011validation-rmse:360166.02570\u001b[0m\n",
      "\u001b[34m[236]#011train-rmse:317266.24977#011validation-rmse:360141.26642\u001b[0m\n",
      "\u001b[34m[237]#011train-rmse:317245.98136#011validation-rmse:360130.72881\u001b[0m\n",
      "\u001b[34m[238]#011train-rmse:317237.44652#011validation-rmse:360124.96485\u001b[0m\n",
      "\u001b[34m[239]#011train-rmse:317235.07714#011validation-rmse:360122.87161\u001b[0m\n",
      "\u001b[34m[240]#011train-rmse:317233.63888#011validation-rmse:360121.12727\u001b[0m\n",
      "\u001b[34m[241]#011train-rmse:317206.97764#011validation-rmse:360106.08648\u001b[0m\n",
      "\u001b[34m[242]#011train-rmse:317182.61589#011validation-rmse:360091.40447\u001b[0m\n",
      "\u001b[34m[243]#011train-rmse:317178.33759#011validation-rmse:360089.77825\u001b[0m\n",
      "\u001b[34m[244]#011train-rmse:317175.69363#011validation-rmse:360087.22651\u001b[0m\n",
      "\u001b[34m[245]#011train-rmse:317129.14128#011validation-rmse:360115.63282\u001b[0m\n",
      "\u001b[34m[246]#011train-rmse:316911.75784#011validation-rmse:360022.18506\u001b[0m\n",
      "\u001b[34m[247]#011train-rmse:316903.15426#011validation-rmse:360032.94889\u001b[0m\n",
      "\u001b[34m[248]#011train-rmse:316892.30861#011validation-rmse:360034.36632\u001b[0m\n",
      "\u001b[34m[249]#011train-rmse:316775.87126#011validation-rmse:359963.62731\u001b[0m\n",
      "\u001b[34m[250]#011train-rmse:316767.58544#011validation-rmse:359959.44085\u001b[0m\n",
      "\u001b[34m[251]#011train-rmse:316521.04866#011validation-rmse:359928.37510\u001b[0m\n",
      "\u001b[34m[252]#011train-rmse:316501.90452#011validation-rmse:359918.15267\u001b[0m\n",
      "\u001b[34m[253]#011train-rmse:316459.85527#011validation-rmse:359932.81688\u001b[0m\n",
      "\u001b[34m[254]#011train-rmse:316295.56681#011validation-rmse:359879.03499\u001b[0m\n",
      "\u001b[34m[255]#011train-rmse:316032.37826#011validation-rmse:359715.41335\u001b[0m\n",
      "\u001b[34m[256]#011train-rmse:315949.41938#011validation-rmse:359725.48411\u001b[0m\n",
      "\u001b[34m[257]#011train-rmse:315947.02437#011validation-rmse:359726.88519\u001b[0m\n",
      "\u001b[34m[258]#011train-rmse:315928.56360#011validation-rmse:359720.19046\u001b[0m\n",
      "\u001b[34m[259]#011train-rmse:315819.88897#011validation-rmse:359729.15683\u001b[0m\n",
      "\u001b[34m[260]#011train-rmse:315805.35088#011validation-rmse:359725.23259\u001b[0m\n",
      "\u001b[34m[261]#011train-rmse:315799.84922#011validation-rmse:359720.24577\u001b[0m\n",
      "\u001b[34m[262]#011train-rmse:315566.99201#011validation-rmse:359667.18838\u001b[0m\n",
      "\u001b[34m[263]#011train-rmse:315565.08383#011validation-rmse:359664.90887\u001b[0m\n",
      "\u001b[34m[264]#011train-rmse:315546.92695#011validation-rmse:359666.98668\u001b[0m\n",
      "\u001b[34m[265]#011train-rmse:315532.30791#011validation-rmse:359661.43918\u001b[0m\n",
      "\u001b[34m[266]#011train-rmse:315206.08440#011validation-rmse:359485.82432\u001b[0m\n",
      "\u001b[34m[267]#011train-rmse:315193.12792#011validation-rmse:359472.55144\u001b[0m\n",
      "\u001b[34m[268]#011train-rmse:315183.81255#011validation-rmse:359469.86043\u001b[0m\n",
      "\u001b[34m[269]#011train-rmse:314982.64605#011validation-rmse:359383.04689\u001b[0m\n",
      "\u001b[34m[270]#011train-rmse:314860.95968#011validation-rmse:359393.16646\u001b[0m\n",
      "\u001b[34m[271]#011train-rmse:314689.47771#011validation-rmse:359295.23671\u001b[0m\n",
      "\u001b[34m[272]#011train-rmse:314672.80105#011validation-rmse:359296.05937\u001b[0m\n",
      "\u001b[34m[273]#011train-rmse:314663.97561#011validation-rmse:359296.51346\u001b[0m\n",
      "\u001b[34m[274]#011train-rmse:314527.39462#011validation-rmse:359249.41079\u001b[0m\n",
      "\u001b[34m[275]#011train-rmse:314483.20334#011validation-rmse:359216.51454\u001b[0m\n",
      "\u001b[34m[276]#011train-rmse:314275.88757#011validation-rmse:359133.80648\u001b[0m\n",
      "\u001b[34m[277]#011train-rmse:314270.61529#011validation-rmse:359129.95999\u001b[0m\n",
      "\u001b[34m[278]#011train-rmse:314153.42509#011validation-rmse:359105.42461\u001b[0m\n",
      "\u001b[34m[279]#011train-rmse:314146.57606#011validation-rmse:359106.41486\u001b[0m\n",
      "\u001b[34m[280]#011train-rmse:314119.00948#011validation-rmse:359127.11647\u001b[0m\n",
      "\u001b[34m[281]#011train-rmse:314106.63034#011validation-rmse:359116.25911\u001b[0m\n",
      "\u001b[34m[282]#011train-rmse:314046.76437#011validation-rmse:359113.60870\u001b[0m\n",
      "\u001b[34m[283]#011train-rmse:314039.68282#011validation-rmse:359109.54410\u001b[0m\n",
      "\u001b[34m[284]#011train-rmse:314029.83254#011validation-rmse:359110.71633\u001b[0m\n",
      "\u001b[34m[285]#011train-rmse:313809.20362#011validation-rmse:358994.56275\u001b[0m\n",
      "\u001b[34m[286]#011train-rmse:313796.37662#011validation-rmse:358983.99879\u001b[0m\n",
      "\u001b[34m[287]#011train-rmse:313763.89337#011validation-rmse:358963.31683\u001b[0m\n",
      "\u001b[34m[288]#011train-rmse:313759.16912#011validation-rmse:358961.99042\u001b[0m\n",
      "\u001b[34m[289]#011train-rmse:313750.89392#011validation-rmse:358962.39386\u001b[0m\n",
      "\u001b[34m[290]#011train-rmse:313746.95181#011validation-rmse:358960.24891\u001b[0m\n",
      "\u001b[34m[291]#011train-rmse:313743.69133#011validation-rmse:358956.08973\u001b[0m\n",
      "\u001b[34m[292]#011train-rmse:313732.63677#011validation-rmse:358958.75765\u001b[0m\n",
      "\u001b[34m[293]#011train-rmse:313714.01241#011validation-rmse:358955.46178\u001b[0m\n",
      "\u001b[34m[294]#011train-rmse:313706.75663#011validation-rmse:358949.86799\u001b[0m\n",
      "\u001b[34m[295]#011train-rmse:313700.43484#011validation-rmse:358943.35040\u001b[0m\n",
      "\u001b[34m[296]#011train-rmse:313694.80641#011validation-rmse:358939.45054\u001b[0m\n",
      "\u001b[34m[297]#011train-rmse:313524.98942#011validation-rmse:358847.81339\u001b[0m\n",
      "\u001b[34m[298]#011train-rmse:313361.56792#011validation-rmse:358763.65675\u001b[0m\n",
      "\u001b[34m[299]#011train-rmse:313358.92032#011validation-rmse:358763.26683\u001b[0m\n",
      "\u001b[34m[300]#011train-rmse:313353.48148#011validation-rmse:358757.23087\u001b[0m\n",
      "\u001b[34m[301]#011train-rmse:313346.28504#011validation-rmse:358760.03062\u001b[0m\n",
      "\u001b[34m[302]#011train-rmse:313338.28946#011validation-rmse:358753.02815\u001b[0m\n",
      "\u001b[34m[303]#011train-rmse:313333.35589#011validation-rmse:358755.96502\u001b[0m\n",
      "\u001b[34m[304]#011train-rmse:312987.42381#011validation-rmse:358588.23881\u001b[0m\n",
      "\u001b[34m[305]#011train-rmse:312978.66133#011validation-rmse:358588.09243\u001b[0m\n",
      "\u001b[34m[306]#011train-rmse:312751.77792#011validation-rmse:358531.85442\u001b[0m\n",
      "\u001b[34m[307]#011train-rmse:312742.03625#011validation-rmse:358521.91452\u001b[0m\n",
      "\u001b[34m[308]#011train-rmse:312737.22263#011validation-rmse:358518.17379\u001b[0m\n",
      "\u001b[34m[309]#011train-rmse:312734.57924#011validation-rmse:358515.41061\u001b[0m\n",
      "\u001b[34m[310]#011train-rmse:312608.07453#011validation-rmse:358462.88309\u001b[0m\n",
      "\u001b[34m[311]#011train-rmse:312554.23060#011validation-rmse:358455.49103\u001b[0m\n",
      "\u001b[34m[312]#011train-rmse:312410.29342#011validation-rmse:358399.21179\u001b[0m\n",
      "\u001b[34m[313]#011train-rmse:312376.51688#011validation-rmse:358416.95197\u001b[0m\n",
      "\u001b[34m[314]#011train-rmse:312366.48513#011validation-rmse:358420.21168\u001b[0m\n",
      "\u001b[34m[315]#011train-rmse:312060.14241#011validation-rmse:358242.20953\u001b[0m\n",
      "\u001b[34m[316]#011train-rmse:312052.87182#011validation-rmse:358241.49760\u001b[0m\n",
      "\u001b[34m[317]#011train-rmse:312049.56052#011validation-rmse:358242.87351\u001b[0m\n",
      "\u001b[34m[318]#011train-rmse:312046.22360#011validation-rmse:358244.16793\u001b[0m\n",
      "\u001b[34m[319]#011train-rmse:312038.90419#011validation-rmse:358250.50721\u001b[0m\n",
      "\u001b[34m[320]#011train-rmse:312029.84512#011validation-rmse:358250.74670\u001b[0m\n",
      "\u001b[34m[321]#011train-rmse:312023.36396#011validation-rmse:358254.50576\u001b[0m\n",
      "\u001b[34m[322]#011train-rmse:312020.44563#011validation-rmse:358252.96027\u001b[0m\n",
      "\u001b[34m[323]#011train-rmse:311981.26399#011validation-rmse:358233.49618\u001b[0m\n",
      "\u001b[34m[324]#011train-rmse:311881.58937#011validation-rmse:358163.88594\u001b[0m\n",
      "\u001b[34m[325]#011train-rmse:311590.57453#011validation-rmse:358171.55528\u001b[0m\n",
      "\u001b[34m[326]#011train-rmse:311558.02113#011validation-rmse:358205.56377\u001b[0m\n",
      "\u001b[34m[327]#011train-rmse:311463.64580#011validation-rmse:358208.03610\u001b[0m\n",
      "\u001b[34m[328]#011train-rmse:311457.51843#011validation-rmse:358204.29887\u001b[0m\n",
      "\u001b[34m[329]#011train-rmse:311451.59266#011validation-rmse:358205.96119\u001b[0m\n",
      "\u001b[34m[330]#011train-rmse:311353.20970#011validation-rmse:358158.04759\u001b[0m\n",
      "\u001b[34m[331]#011train-rmse:311056.01822#011validation-rmse:357984.71801\u001b[0m\n",
      "\u001b[34m[332]#011train-rmse:311049.96571#011validation-rmse:357989.09059\u001b[0m\n",
      "\u001b[34m[333]#011train-rmse:311044.90009#011validation-rmse:357988.40751\u001b[0m\n",
      "\u001b[34m[334]#011train-rmse:311003.60959#011validation-rmse:357978.37623\u001b[0m\n",
      "\u001b[34m[335]#011train-rmse:310994.51105#011validation-rmse:357970.01715\u001b[0m\n",
      "\u001b[34m[336]#011train-rmse:310988.10841#011validation-rmse:357964.91656\u001b[0m\n",
      "\u001b[34m[337]#011train-rmse:310961.31528#011validation-rmse:357998.17177\u001b[0m\n",
      "\u001b[34m[338]#011train-rmse:310951.21715#011validation-rmse:357991.50708\u001b[0m\n",
      "\u001b[34m[339]#011train-rmse:310943.51843#011validation-rmse:357992.09874\u001b[0m\n",
      "\u001b[34m[340]#011train-rmse:310835.24995#011validation-rmse:357975.56679\u001b[0m\n",
      "\u001b[34m[341]#011train-rmse:310796.97264#011validation-rmse:357989.35161\u001b[0m\n",
      "\u001b[34m[342]#011train-rmse:310795.84529#011validation-rmse:357989.65846\u001b[0m\n",
      "\u001b[34m[343]#011train-rmse:310793.41026#011validation-rmse:357989.19289\u001b[0m\n",
      "\u001b[34m[344]#011train-rmse:310787.63593#011validation-rmse:357987.47577\u001b[0m\n",
      "\u001b[34m[345]#011train-rmse:310787.17127#011validation-rmse:357988.20268\u001b[0m\n",
      "\u001b[34m[346]#011train-rmse:310739.62183#011validation-rmse:357971.89685\u001b[0m\n",
      "\u001b[34m[347]#011train-rmse:310718.84066#011validation-rmse:357999.69989\u001b[0m\n",
      "\u001b[34m[348]#011train-rmse:310706.15743#011validation-rmse:357993.37356\u001b[0m\n",
      "\u001b[34m[349]#011train-rmse:310703.32511#011validation-rmse:357990.39299\u001b[0m\n",
      "\u001b[34m[350]#011train-rmse:310561.41760#011validation-rmse:357929.73656\u001b[0m\n",
      "\u001b[34m[351]#011train-rmse:310509.70074#011validation-rmse:357930.27580\u001b[0m\n",
      "\u001b[34m[352]#011train-rmse:310405.96232#011validation-rmse:357934.26655\u001b[0m\n",
      "\u001b[34m[353]#011train-rmse:310403.63037#011validation-rmse:357933.55678\u001b[0m\n",
      "\u001b[34m[354]#011train-rmse:310258.05999#011validation-rmse:357934.23994\u001b[0m\n",
      "\u001b[34m[355]#011train-rmse:310189.41438#011validation-rmse:357893.70565\u001b[0m\n",
      "\u001b[34m[356]#011train-rmse:310188.53066#011validation-rmse:357896.88343\u001b[0m\n",
      "\u001b[34m[357]#011train-rmse:310128.58327#011validation-rmse:357919.68214\u001b[0m\n",
      "\u001b[34m[358]#011train-rmse:310085.82394#011validation-rmse:357901.03973\u001b[0m\n",
      "\u001b[34m[359]#011train-rmse:310082.54770#011validation-rmse:357897.17495\u001b[0m\n",
      "\u001b[34m[360]#011train-rmse:309891.99875#011validation-rmse:357797.76633\u001b[0m\n",
      "\u001b[34m[361]#011train-rmse:309888.23865#011validation-rmse:357796.57640\u001b[0m\n",
      "\u001b[34m[362]#011train-rmse:309746.84610#011validation-rmse:357736.05551\u001b[0m\n",
      "\u001b[34m[363]#011train-rmse:309741.48995#011validation-rmse:357735.16610\u001b[0m\n",
      "\u001b[34m[364]#011train-rmse:309731.74229#011validation-rmse:357728.44969\u001b[0m\n",
      "\u001b[34m[365]#011train-rmse:309728.74565#011validation-rmse:357724.38223\u001b[0m\n",
      "\u001b[34m[366]#011train-rmse:309727.71057#011validation-rmse:357724.76905\u001b[0m\n",
      "\u001b[34m[367]#011train-rmse:309621.31354#011validation-rmse:357666.86096\u001b[0m\n",
      "\u001b[34m[368]#011train-rmse:309511.90862#011validation-rmse:357667.20981\u001b[0m\n",
      "\u001b[34m[369]#011train-rmse:309507.04115#011validation-rmse:357663.53598\u001b[0m\n",
      "\u001b[34m[370]#011train-rmse:309467.91330#011validation-rmse:357674.57392\u001b[0m\n",
      "\u001b[34m[371]#011train-rmse:309463.71617#011validation-rmse:357673.37935\u001b[0m\n",
      "\u001b[34m[372]#011train-rmse:309237.38436#011validation-rmse:357643.19378\u001b[0m\n",
      "\u001b[34m[373]#011train-rmse:309234.26953#011validation-rmse:357645.45062\u001b[0m\n",
      "\u001b[34m[374]#011train-rmse:309231.97082#011validation-rmse:357650.15260\u001b[0m\n",
      "\u001b[34m[375]#011train-rmse:309096.68516#011validation-rmse:357639.43422\u001b[0m\n",
      "\u001b[34m[376]#011train-rmse:309091.87555#011validation-rmse:357635.29227\u001b[0m\n",
      "\u001b[34m[377]#011train-rmse:309089.18511#011validation-rmse:357635.31233\u001b[0m\n",
      "\u001b[34m[378]#011train-rmse:309081.40670#011validation-rmse:357631.40195\u001b[0m\n",
      "\u001b[34m[379]#011train-rmse:309080.43683#011validation-rmse:357630.05727\u001b[0m\n",
      "\u001b[34m[380]#011train-rmse:309079.96852#011validation-rmse:357629.55541\u001b[0m\n",
      "\u001b[34m[381]#011train-rmse:309077.01516#011validation-rmse:357632.57585\u001b[0m\n",
      "\u001b[34m[382]#011train-rmse:308844.30334#011validation-rmse:357545.76729\u001b[0m\n",
      "\u001b[34m[383]#011train-rmse:308843.07511#011validation-rmse:357545.99702\u001b[0m\n",
      "\u001b[34m[384]#011train-rmse:308839.86420#011validation-rmse:357548.76437\u001b[0m\n",
      "\u001b[34m[385]#011train-rmse:308837.12310#011validation-rmse:357547.15836\u001b[0m\n",
      "\u001b[34m[386]#011train-rmse:308756.53959#011validation-rmse:357529.89845\u001b[0m\n",
      "\u001b[34m[387]#011train-rmse:308753.79626#011validation-rmse:357532.36459\u001b[0m\n",
      "\u001b[34m[388]#011train-rmse:308750.09647#011validation-rmse:357532.70740\u001b[0m\n",
      "\u001b[34m[389]#011train-rmse:308651.28266#011validation-rmse:357491.42542\u001b[0m\n",
      "\u001b[34m[390]#011train-rmse:308649.68988#011validation-rmse:357492.66382\u001b[0m\n",
      "\u001b[34m[391]#011train-rmse:308648.64428#011validation-rmse:357493.56005\u001b[0m\n",
      "\u001b[34m[392]#011train-rmse:308648.06970#011validation-rmse:357494.24052\u001b[0m\n",
      "\u001b[34m[393]#011train-rmse:308629.29722#011validation-rmse:357485.20182\u001b[0m\n",
      "\u001b[34m[394]#011train-rmse:308627.37039#011validation-rmse:357485.70299\u001b[0m\n",
      "\u001b[34m[395]#011train-rmse:308625.15260#011validation-rmse:357485.13311\u001b[0m\n",
      "\u001b[34m[396]#011train-rmse:308624.56721#011validation-rmse:357483.96399\u001b[0m\n",
      "\u001b[34m[397]#011train-rmse:308553.67052#011validation-rmse:357508.22781\u001b[0m\n",
      "\u001b[34m[398]#011train-rmse:308526.13715#011validation-rmse:357496.44403\u001b[0m\n",
      "\u001b[34m[399]#011train-rmse:308525.10400#011validation-rmse:357494.87440\u001b[0m\n",
      "\n",
      "2024-05-01 12:24:24 Uploading - Uploading generated training model\n",
      "2024-05-01 12:24:24 Completed - Training job completed\n",
      "Training seconds: 2284\n",
      "Billable seconds: 2284\n"
     ]
    }
   ],
   "source": [
    "estimator.fit(data_channels)"
   ]
  },
  {
   "cell_type": "markdown",
   "metadata": {},
   "source": [
    "## Deploy Model"
   ]
  },
  {
   "cell_type": "code",
   "execution_count": 42,
   "metadata": {
    "tags": []
   },
   "outputs": [
    {
     "name": "stderr",
     "output_type": "stream",
     "text": [
      "INFO:sagemaker:Creating model with name: inference-pipeline-2024-05-01-11-42-36-2024-05-01-13-19-15-453\n",
      "INFO:sagemaker:Creating endpoint-config with name xgboost-inference-pipeline-ep-2024-05-01-11-42-36\n",
      "INFO:sagemaker:Creating endpoint with name xgboost-inference-pipeline-ep-2024-05-01-11-42-36\n"
     ]
    },
    {
     "name": "stdout",
     "output_type": "stream",
     "text": [
      "--------!"
     ]
    }
   ],
   "source": [
    "# Ref: http://sagemaker.readthedocs.io/en/latest/estimators.html\n",
    "predictor = estimator.deploy(initial_instance_count=1,\n",
    "                             instance_type='ml.m4.xlarge',\n",
    "                             endpoint_name = endpoint_name)\n",
    "\n",
    "# INFO:sagemaker:Creating model with name: inference-pipeline-2024-04-30-09-19-36-2024-04-30-10-51-09-219\n",
    "# INFO:sagemaker:Creating endpoint-config with name xgboost-inference-pipeline-ep-2024-04-30-09-19-36\n",
    "# INFO:sagemaker:Creating endpoint with name xgboost-inference-pipeline-ep-2024-04-30-09-19-36"
   ]
  },
  {
   "cell_type": "markdown",
   "metadata": {},
   "source": [
    "## Run Predictions\n"
   ]
  },
  {
   "cell_type": "code",
   "execution_count": 18,
   "metadata": {
    "tags": []
   },
   "outputs": [],
   "source": [
    "# endpoint_name='xgboost-inference-pipeline-ep-2024-05-01-11-42-36'"
   ]
  },
  {
   "cell_type": "code",
   "execution_count": 19,
   "metadata": {
    "tags": []
   },
   "outputs": [],
   "source": [
    "predictor = sagemaker.predictor.Predictor(endpoint_name=endpoint_name)"
   ]
  },
  {
   "cell_type": "code",
   "execution_count": 20,
   "metadata": {
    "tags": []
   },
   "outputs": [],
   "source": [
    "from sagemaker.serializers import CSVSerializer\n",
    "predictor.serializer = CSVSerializer()"
   ]
  },
  {
   "cell_type": "code",
   "execution_count": 21,
   "metadata": {
    "tags": []
   },
   "outputs": [],
   "source": [
    "from sagemaker.deserializers import CSVDeserializer\n",
    "predictor.deserializer = CSVDeserializer()"
   ]
  },
  {
   "cell_type": "code",
   "execution_count": 25,
   "metadata": {
    "tags": []
   },
   "outputs": [],
   "source": [
    "# Read test data from file\n",
    "\n",
    "# arr_test = X_test_pre.toarray()\n",
    "# type(arr_test)\n",
    "\n",
    "test_data = pd.read_csv('preprocessed_data/test.csv')\n",
    "test_data_arr = test_data.to_numpy()\n",
    "test_data_arr.shape"
   ]
  },
  {
   "cell_type": "code",
   "execution_count": 27,
   "metadata": {
    "tags": []
   },
   "outputs": [],
   "source": [
    "y_predict_1 = predictor.predict(test_data_arr[0:5000])"
   ]
  },
  {
   "cell_type": "code",
   "execution_count": 28,
   "metadata": {
    "tags": []
   },
   "outputs": [],
   "source": [
    "# transform predictions into list of floats\n",
    "y_predict_1 = pd.Series(y_predict_1, name='actual_worth').apply(lambda x: x[0]).astype('float64')"
   ]
  },
  {
   "cell_type": "code",
   "execution_count": 29,
   "metadata": {
    "tags": []
   },
   "outputs": [
    {
     "data": {
      "text/plain": [
       "758471     853603.0\n",
       "299046    1103631.0\n",
       "736791    1188790.0\n",
       "736156     330000.0\n",
       "294085     980888.0\n",
       "            ...    \n",
       "298283     431310.0\n",
       "664693    1359406.0\n",
       "584893     392096.0\n",
       "545725    2275888.0\n",
       "261225    1206178.0\n",
       "Name: actual_worth, Length: 5000, dtype: float64"
      ]
     },
     "execution_count": 29,
     "metadata": {},
     "output_type": "execute_result"
    }
   ],
   "source": [
    "y_test[0:5000]"
   ]
  },
  {
   "cell_type": "code",
   "execution_count": 30,
   "metadata": {
    "tags": []
   },
   "outputs": [
    {
     "name": "stdout",
     "output_type": "stream",
     "text": [
      "RMSE = 343734.754 \n",
      "MSE = 118153581243.19948 \n",
      "MAE = 211480.66236152343 \n",
      "R2 = 0.8704294799799139 \n",
      "Adjusted R2 = 0.8623915382238346\n"
     ]
    }
   ],
   "source": [
    "import numpy as np\n",
    "from sklearn.metrics import r2_score, mean_squared_error, mean_absolute_error\n",
    "\n",
    "k = X_test_pre.shape[1]\n",
    "n = len(y_predict_1)\n",
    "RMSE = float(format(np.sqrt(mean_squared_error(y_test[0:5000], y_predict_1)),'.3f'))\n",
    "MSE = mean_squared_error(y_test[0:5000], y_predict_1)\n",
    "MAE = mean_absolute_error(y_test[0:5000], y_predict_1)\n",
    "\n",
    "# coefficient of determination - how much variance can be explained by the given features\n",
    "r2 = r2_score(y_test[0:5000], y_predict_1)\n",
    "# adjusted R-squared - adjusts for the degrees of freedom, effectively penalizing the addition of more predictors to a model\n",
    "adj_r2 = 1-(1-r2)*(n-1)/(n-k-1)\n",
    "\n",
    "print('RMSE =',RMSE, '\\nMSE =',MSE, '\\nMAE =',MAE, '\\nR2 =', r2, '\\nAdjusted R2 =', adj_r2) "
   ]
  },
  {
   "cell_type": "code",
   "execution_count": 32,
   "metadata": {
    "tags": []
   },
   "outputs": [],
   "source": [
    "# Run predictions locally\n",
    "\n",
    "# ! pip install xgboost\n",
    "\n",
    "# import tarfile\n",
    "# import pickle as pkl\n",
    "# import xgboost as xgb\n",
    "\n",
    "\n",
    "# # download the model artifact from AWS S3\n",
    "# # !aws s3 cp s3://dld-transactions-project/XGBoost-Regressor-matrix/artifacts/inference-pipeline-2024-04-25-14-16-39-2024-04-25-14-17-02-656/output/model.tar.gz .\n",
    "\n",
    "# #opens the downloaded model artifcat and loads it as 'model' variable\n",
    "# tar = tarfile.open('model.tar.gz')\n",
    "# tar.extractall()\n",
    "# tar.close()\n",
    "\n",
    "# model = xgb.Booster()\n",
    "# model.load_model('xgboost-model')\n",
    "\n",
    "# dtest = xgb.DMatrix(X_test_pre)\n",
    "\n",
    "# y_predict = model.predict(dtest)\n",
    "# print(y_predict)"
   ]
  }
 ],
 "metadata": {
  "kernelspec": {
   "display_name": "base",
   "language": "python",
   "name": "python3"
  },
  "language_info": {
   "codemirror_mode": {
    "name": "ipython",
    "version": 3
   },
   "file_extension": ".py",
   "mimetype": "text/x-python",
   "name": "python",
   "nbconvert_exporter": "python",
   "pygments_lexer": "ipython3",
   "version": "3.11.5"
  }
 },
 "nbformat": 4,
 "nbformat_minor": 4
}
